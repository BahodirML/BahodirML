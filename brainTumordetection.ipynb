{
 "cells": [
  {
   "cell_type": "code",
   "execution_count": 1,
   "id": "20a22b9e",
   "metadata": {
    "_cell_guid": "b1076dfc-b9ad-4769-8c92-a6c4dae69d19",
    "_uuid": "8f2839f25d086af736a60e9eeb907d3b93b6e0e5",
    "execution": {
     "iopub.execute_input": "2024-07-01T09:13:53.037221Z",
     "iopub.status.busy": "2024-07-01T09:13:53.036895Z",
     "iopub.status.idle": "2024-07-01T09:14:06.467686Z",
     "shell.execute_reply": "2024-07-01T09:14:06.466565Z"
    },
    "papermill": {
     "duration": 13.441714,
     "end_time": "2024-07-01T09:14:06.469987",
     "exception": false,
     "start_time": "2024-07-01T09:13:53.028273",
     "status": "completed"
    },
    "tags": []
   },
   "outputs": [
    {
     "name": "stdout",
     "output_type": "stream",
     "text": [
      "Requirement already satisfied: torch in /opt/conda/lib/python3.10/site-packages (2.1.2)\r\n",
      "Requirement already satisfied: torchvision in /opt/conda/lib/python3.10/site-packages (0.16.2)\r\n",
      "Requirement already satisfied: transformers in /opt/conda/lib/python3.10/site-packages (4.41.2)\r\n",
      "Requirement already satisfied: filelock in /opt/conda/lib/python3.10/site-packages (from torch) (3.13.1)\r\n",
      "Requirement already satisfied: typing-extensions in /opt/conda/lib/python3.10/site-packages (from torch) (4.9.0)\r\n",
      "Requirement already satisfied: sympy in /opt/conda/lib/python3.10/site-packages (from torch) (1.12.1)\r\n",
      "Requirement already satisfied: networkx in /opt/conda/lib/python3.10/site-packages (from torch) (3.2.1)\r\n",
      "Requirement already satisfied: jinja2 in /opt/conda/lib/python3.10/site-packages (from torch) (3.1.2)\r\n",
      "Requirement already satisfied: fsspec in /opt/conda/lib/python3.10/site-packages (from torch) (2024.3.1)\r\n",
      "Requirement already satisfied: numpy in /opt/conda/lib/python3.10/site-packages (from torchvision) (1.26.4)\r\n",
      "Requirement already satisfied: requests in /opt/conda/lib/python3.10/site-packages (from torchvision) (2.32.3)\r\n",
      "Requirement already satisfied: pillow!=8.3.*,>=5.3.0 in /opt/conda/lib/python3.10/site-packages (from torchvision) (9.5.0)\r\n",
      "Requirement already satisfied: huggingface-hub<1.0,>=0.23.0 in /opt/conda/lib/python3.10/site-packages (from transformers) (0.23.2)\r\n",
      "Requirement already satisfied: packaging>=20.0 in /opt/conda/lib/python3.10/site-packages (from transformers) (21.3)\r\n",
      "Requirement already satisfied: pyyaml>=5.1 in /opt/conda/lib/python3.10/site-packages (from transformers) (6.0.1)\r\n",
      "Requirement already satisfied: regex!=2019.12.17 in /opt/conda/lib/python3.10/site-packages (from transformers) (2023.12.25)\r\n",
      "Requirement already satisfied: tokenizers<0.20,>=0.19 in /opt/conda/lib/python3.10/site-packages (from transformers) (0.19.1)\r\n",
      "Requirement already satisfied: safetensors>=0.4.1 in /opt/conda/lib/python3.10/site-packages (from transformers) (0.4.3)\r\n",
      "Requirement already satisfied: tqdm>=4.27 in /opt/conda/lib/python3.10/site-packages (from transformers) (4.66.4)\r\n",
      "Requirement already satisfied: pyparsing!=3.0.5,>=2.0.2 in /opt/conda/lib/python3.10/site-packages (from packaging>=20.0->transformers) (3.1.1)\r\n",
      "Requirement already satisfied: MarkupSafe>=2.0 in /opt/conda/lib/python3.10/site-packages (from jinja2->torch) (2.1.3)\r\n",
      "Requirement already satisfied: charset-normalizer<4,>=2 in /opt/conda/lib/python3.10/site-packages (from requests->torchvision) (3.3.2)\r\n",
      "Requirement already satisfied: idna<4,>=2.5 in /opt/conda/lib/python3.10/site-packages (from requests->torchvision) (3.6)\r\n",
      "Requirement already satisfied: urllib3<3,>=1.21.1 in /opt/conda/lib/python3.10/site-packages (from requests->torchvision) (1.26.18)\r\n",
      "Requirement already satisfied: certifi>=2017.4.17 in /opt/conda/lib/python3.10/site-packages (from requests->torchvision) (2024.2.2)\r\n",
      "Requirement already satisfied: mpmath<1.4.0,>=1.1.0 in /opt/conda/lib/python3.10/site-packages (from sympy->torch) (1.3.0)\r\n"
     ]
    }
   ],
   "source": [
    "!pip install torch torchvision transformers"
   ]
  },
  {
   "cell_type": "code",
   "execution_count": 2,
   "id": "8e96f924",
   "metadata": {
    "execution": {
     "iopub.execute_input": "2024-07-01T09:14:06.486990Z",
     "iopub.status.busy": "2024-07-01T09:14:06.486656Z",
     "iopub.status.idle": "2024-07-01T09:14:11.677722Z",
     "shell.execute_reply": "2024-07-01T09:14:11.676848Z"
    },
    "papermill": {
     "duration": 5.202093,
     "end_time": "2024-07-01T09:14:11.680063",
     "exception": false,
     "start_time": "2024-07-01T09:14:06.477970",
     "status": "completed"
    },
    "tags": []
   },
   "outputs": [],
   "source": [
    "#importing libraries\n",
    "import torch\n",
    "import torch.nn as nn\n",
    "import torch.optim as optim\n",
    "from torch.utils.data import DataLoader\n",
    "from torchvision import datasets, transforms\n",
    "from torch.optim.lr_scheduler import ReduceLROnPlateau\n",
    "import numpy as np\n",
    "import copy"
   ]
  },
  {
   "cell_type": "markdown",
   "id": "d813c723",
   "metadata": {
    "papermill": {
     "duration": 0.007586,
     "end_time": "2024-07-01T09:14:11.696123",
     "exception": false,
     "start_time": "2024-07-01T09:14:11.688537",
     "status": "completed"
    },
    "tags": []
   },
   "source": [
    "## Training the model with early stopping and calbacks"
   ]
  },
  {
   "cell_type": "code",
   "execution_count": 3,
   "id": "70a45287",
   "metadata": {
    "execution": {
     "iopub.execute_input": "2024-07-01T09:14:11.712916Z",
     "iopub.status.busy": "2024-07-01T09:14:11.712149Z",
     "iopub.status.idle": "2024-07-01T09:14:11.804778Z",
     "shell.execute_reply": "2024-07-01T09:14:11.803758Z"
    },
    "papermill": {
     "duration": 0.103169,
     "end_time": "2024-07-01T09:14:11.806732",
     "exception": false,
     "start_time": "2024-07-01T09:14:11.703563",
     "status": "completed"
    },
    "tags": []
   },
   "outputs": [
    {
     "name": "stdout",
     "output_type": "stream",
     "text": [
      "Using device: cuda\n"
     ]
    }
   ],
   "source": [
    "# Check for GPU availability\n",
    "device = torch.device('cuda' if torch.cuda.is_available() else 'cpu')\n",
    "print(f\"Using device: {device}\")\n"
   ]
  },
  {
   "cell_type": "code",
   "execution_count": 4,
   "id": "848eed06",
   "metadata": {
    "execution": {
     "iopub.execute_input": "2024-07-01T09:14:11.823710Z",
     "iopub.status.busy": "2024-07-01T09:14:11.822959Z",
     "iopub.status.idle": "2024-07-01T09:14:11.830520Z",
     "shell.execute_reply": "2024-07-01T09:14:11.829678Z"
    },
    "papermill": {
     "duration": 0.018025,
     "end_time": "2024-07-01T09:14:11.832389",
     "exception": false,
     "start_time": "2024-07-01T09:14:11.814364",
     "status": "completed"
    },
    "tags": []
   },
   "outputs": [],
   "source": [
    "# Define transformations\n",
    "transform = {\n",
    "    'train': transforms.Compose([\n",
    "        transforms.Resize((128, 128)),\n",
    "        transforms.RandomHorizontalFlip(),\n",
    "        transforms.RandomRotation(10),\n",
    "        transforms.ToTensor(),\n",
    "        transforms.Normalize([0.485, 0.456, 0.406], [0.229, 0.224, 0.225])\n",
    "    ]),\n",
    "    'test': transforms.Compose([\n",
    "        transforms.Resize((128, 128)),\n",
    "        transforms.ToTensor(),\n",
    "        transforms.Normalize([0.485, 0.456, 0.406], [0.229, 0.224, 0.225])\n",
    "    ]),\n",
    "}\n"
   ]
  },
  {
   "cell_type": "code",
   "execution_count": 5,
   "id": "6cfb8ddb",
   "metadata": {
    "execution": {
     "iopub.execute_input": "2024-07-01T09:14:11.848891Z",
     "iopub.status.busy": "2024-07-01T09:14:11.848357Z",
     "iopub.status.idle": "2024-07-01T09:14:13.989028Z",
     "shell.execute_reply": "2024-07-01T09:14:13.988245Z"
    },
    "papermill": {
     "duration": 2.151319,
     "end_time": "2024-07-01T09:14:13.991241",
     "exception": false,
     "start_time": "2024-07-01T09:14:11.839922",
     "status": "completed"
    },
    "tags": []
   },
   "outputs": [],
   "source": [
    "# Load dataset\n",
    "train_data = datasets.ImageFolder(root='/kaggle/input/braintumor/Training', transform=transform['train'])\n",
    "test_data = datasets.ImageFolder(root='/kaggle/input/braintumor/Testing', transform=transform['test'])\n",
    "\n",
    "train_loader = DataLoader(train_data, batch_size=32, shuffle=True, num_workers=4)\n",
    "test_loader = DataLoader(test_data, batch_size=32, shuffle=False, num_workers=4)\n"
   ]
  },
  {
   "cell_type": "code",
   "execution_count": 6,
   "id": "db484bea",
   "metadata": {
    "execution": {
     "iopub.execute_input": "2024-07-01T09:14:14.008176Z",
     "iopub.status.busy": "2024-07-01T09:14:14.007836Z",
     "iopub.status.idle": "2024-07-01T09:14:14.404757Z",
     "shell.execute_reply": "2024-07-01T09:14:14.403980Z"
    },
    "papermill": {
     "duration": 0.408024,
     "end_time": "2024-07-01T09:14:14.407110",
     "exception": false,
     "start_time": "2024-07-01T09:14:13.999086",
     "status": "completed"
    },
    "tags": []
   },
   "outputs": [],
   "source": [
    "class StrongCNN(nn.Module):\n",
    "    def __init__(self):\n",
    "        super(StrongCNN, self).__init__()\n",
    "        self.conv_layers = nn.Sequential(\n",
    "            nn.Conv2d(3, 32, kernel_size=3, padding=1),\n",
    "            nn.ReLU(),\n",
    "            nn.Conv2d(32, 32, kernel_size=3, padding=1),\n",
    "            nn.ReLU(),\n",
    "            nn.MaxPool2d(2, 2),\n",
    "            nn.Dropout(0.25),\n",
    "\n",
    "            nn.Conv2d(32, 64, kernel_size=3, padding=1),\n",
    "            nn.ReLU(),\n",
    "            nn.Conv2d(64, 64, kernel_size=3, padding=1),\n",
    "            nn.ReLU(),\n",
    "            nn.MaxPool2d(2, 2),\n",
    "            nn.Dropout(0.25),\n",
    "\n",
    "            nn.Conv2d(64, 128, kernel_size=3, padding=1),\n",
    "            nn.ReLU(),\n",
    "            nn.Conv2d(128, 128, kernel_size=3, padding=1),\n",
    "            nn.ReLU(),\n",
    "            nn.MaxPool2d(2, 2),\n",
    "            nn.Dropout(0.25),\n",
    "        )\n",
    "\n",
    "        self.fc_layers = nn.Sequential(\n",
    "            nn.Flatten(),\n",
    "            nn.Linear(128 * 16 * 16, 512),\n",
    "            nn.ReLU(),\n",
    "            nn.Dropout(0.5),\n",
    "            nn.Linear(512, 128),\n",
    "            nn.ReLU(),\n",
    "            nn.Dropout(0.5),\n",
    "            nn.Linear(128, 4)  # Assuming 4 classes\n",
    "        )\n",
    "\n",
    "    def forward(self, x):\n",
    "        x = self.conv_layers(x)\n",
    "        x = self.fc_layers(x)\n",
    "        return x\n",
    "\n",
    "model = StrongCNN().to(device)"
   ]
  },
  {
   "cell_type": "code",
   "execution_count": 7,
   "id": "e2c3fd09",
   "metadata": {
    "execution": {
     "iopub.execute_input": "2024-07-01T09:14:14.424815Z",
     "iopub.status.busy": "2024-07-01T09:14:14.424533Z",
     "iopub.status.idle": "2024-07-01T09:14:14.429724Z",
     "shell.execute_reply": "2024-07-01T09:14:14.428882Z"
    },
    "papermill": {
     "duration": 0.016727,
     "end_time": "2024-07-01T09:14:14.431587",
     "exception": false,
     "start_time": "2024-07-01T09:14:14.414860",
     "status": "completed"
    },
    "tags": []
   },
   "outputs": [],
   "source": [
    "# Initialize loss, optimizer, and learning rate scheduler\n",
    "criterion = nn.CrossEntropyLoss()\n",
    "optimizer = optim.Adam(model.parameters(), lr=0.001)\n",
    "scheduler = ReduceLROnPlateau(optimizer, mode='min', factor=0.2, patience=5, verbose=True)"
   ]
  },
  {
   "cell_type": "code",
   "execution_count": 8,
   "id": "18e946fd",
   "metadata": {
    "execution": {
     "iopub.execute_input": "2024-07-01T09:14:14.448798Z",
     "iopub.status.busy": "2024-07-01T09:14:14.448540Z",
     "iopub.status.idle": "2024-07-01T09:14:14.458994Z",
     "shell.execute_reply": "2024-07-01T09:14:14.458285Z"
    },
    "papermill": {
     "duration": 0.020908,
     "end_time": "2024-07-01T09:14:14.460954",
     "exception": false,
     "start_time": "2024-07-01T09:14:14.440046",
     "status": "completed"
    },
    "tags": []
   },
   "outputs": [],
   "source": [
    "# Early stopping parameters\n",
    "early_stopping_patience = 10\n",
    "best_model_wts = copy.deepcopy(model.state_dict())\n",
    "best_acc = 0.0\n",
    "epochs_no_improve = 0\n",
    "n_epochs = 30\n"
   ]
  },
  {
   "cell_type": "code",
   "execution_count": 9,
   "id": "ca6a93a5",
   "metadata": {
    "execution": {
     "iopub.execute_input": "2024-07-01T09:14:14.477827Z",
     "iopub.status.busy": "2024-07-01T09:14:14.477575Z",
     "iopub.status.idle": "2024-07-01T09:14:14.487141Z",
     "shell.execute_reply": "2024-07-01T09:14:14.486310Z"
    },
    "papermill": {
     "duration": 0.019982,
     "end_time": "2024-07-01T09:14:14.488875",
     "exception": false,
     "start_time": "2024-07-01T09:14:14.468893",
     "status": "completed"
    },
    "tags": []
   },
   "outputs": [],
   "source": [
    "# Training and validation functions\n",
    "def train_model(model, train_loader, test_loader, criterion, optimizer, scheduler, n_epochs, early_stopping_patience):\n",
    "    global best_model_wts, best_acc, epochs_no_improve\n",
    "    model = model.to(device)\n",
    "\n",
    "    for epoch in range(n_epochs):\n",
    "        model.train()\n",
    "        running_loss = 0.0\n",
    "\n",
    "        for inputs, labels in train_loader:\n",
    "            inputs, labels = inputs.to(device), labels.to(device)\n",
    "            optimizer.zero_grad()\n",
    "            outputs = model(inputs)\n",
    "            loss = criterion(outputs, labels)\n",
    "            loss.backward()\n",
    "            optimizer.step()\n",
    "            running_loss += loss.item() * inputs.size(0)\n",
    "\n",
    "        epoch_loss = running_loss / len(train_loader.dataset)\n",
    "        \n",
    "        val_loss, val_acc = validate_model(model, test_loader, criterion)\n",
    "        scheduler.step(val_loss)\n",
    "\n",
    "        print(f'Epoch {epoch+1}/{n_epochs}, Loss: {epoch_loss:.4f}, Val Loss: {val_loss:.4f}, Val Acc: {val_acc:.4f}')\n",
    "\n",
    "        # Early stopping\n",
    "        if val_acc > best_acc:\n",
    "            best_acc = val_acc\n",
    "            best_model_wts = copy.deepcopy(model.state_dict())\n",
    "            epochs_no_improve = 0\n",
    "        else:\n",
    "            epochs_no_improve += 1\n",
    "            if epochs_no_improve == early_stopping_patience:\n",
    "                print(f'Early stopping at epoch {epoch+1}')\n",
    "                model.load_state_dict(best_model_wts)\n",
    "                return model\n",
    "\n",
    "    model.load_state_dict(best_model_wts)\n",
    "    return model"
   ]
  },
  {
   "cell_type": "code",
   "execution_count": 10,
   "id": "b2247721",
   "metadata": {
    "execution": {
     "iopub.execute_input": "2024-07-01T09:14:14.504976Z",
     "iopub.status.busy": "2024-07-01T09:14:14.504443Z",
     "iopub.status.idle": "2024-07-01T09:14:14.511039Z",
     "shell.execute_reply": "2024-07-01T09:14:14.510203Z"
    },
    "papermill": {
     "duration": 0.01662,
     "end_time": "2024-07-01T09:14:14.512899",
     "exception": false,
     "start_time": "2024-07-01T09:14:14.496279",
     "status": "completed"
    },
    "tags": []
   },
   "outputs": [],
   "source": [
    "\n",
    "def validate_model(model, test_loader, criterion):\n",
    "    model.eval()\n",
    "    val_loss = 0.0\n",
    "    correct = 0\n",
    "\n",
    "    with torch.no_grad():\n",
    "        for inputs, labels in test_loader:\n",
    "            inputs, labels = inputs.to(device), labels.to(device)\n",
    "            outputs = model(inputs)\n",
    "            loss = criterion(outputs, labels)\n",
    "            val_loss += loss.item() * inputs.size(0)\n",
    "            preds = outputs.argmax(dim=1)\n",
    "            correct += (preds == labels).sum().item()\n",
    "\n",
    "    val_loss = val_loss / len(test_loader.dataset)\n",
    "    accuracy = correct / len(test_loader.dataset)\n",
    "    return val_loss, accuracy\n"
   ]
  },
  {
   "cell_type": "code",
   "execution_count": 11,
   "id": "a932a0bf",
   "metadata": {
    "execution": {
     "iopub.execute_input": "2024-07-01T09:14:14.528832Z",
     "iopub.status.busy": "2024-07-01T09:14:14.528565Z",
     "iopub.status.idle": "2024-07-01T09:20:52.653283Z",
     "shell.execute_reply": "2024-07-01T09:20:52.652121Z"
    },
    "papermill": {
     "duration": 398.135187,
     "end_time": "2024-07-01T09:20:52.655474",
     "exception": false,
     "start_time": "2024-07-01T09:14:14.520287",
     "status": "completed"
    },
    "tags": []
   },
   "outputs": [
    {
     "name": "stdout",
     "output_type": "stream",
     "text": [
      "Epoch 1/30, Loss: 0.8491, Val Loss: 0.6760, Val Acc: 0.7162\n",
      "Epoch 2/30, Loss: 0.5801, Val Loss: 0.5723, Val Acc: 0.7574\n",
      "Epoch 3/30, Loss: 0.5000, Val Loss: 0.5524, Val Acc: 0.7666\n",
      "Epoch 4/30, Loss: 0.4653, Val Loss: 0.4154, Val Acc: 0.8330\n",
      "Epoch 5/30, Loss: 0.4213, Val Loss: 0.3927, Val Acc: 0.8444\n",
      "Epoch 6/30, Loss: 0.3936, Val Loss: 0.4169, Val Acc: 0.8413\n",
      "Epoch 7/30, Loss: 0.3564, Val Loss: 0.3390, Val Acc: 0.8642\n",
      "Epoch 8/30, Loss: 0.3306, Val Loss: 0.3131, Val Acc: 0.8650\n",
      "Epoch 9/30, Loss: 0.3114, Val Loss: 0.3062, Val Acc: 0.8673\n",
      "Epoch 10/30, Loss: 0.2891, Val Loss: 0.3085, Val Acc: 0.8780\n",
      "Epoch 11/30, Loss: 0.2668, Val Loss: 0.2281, Val Acc: 0.9146\n",
      "Epoch 12/30, Loss: 0.2511, Val Loss: 0.2408, Val Acc: 0.8986\n",
      "Epoch 13/30, Loss: 0.2371, Val Loss: 0.1777, Val Acc: 0.9336\n",
      "Epoch 14/30, Loss: 0.2257, Val Loss: 0.1743, Val Acc: 0.9367\n",
      "Epoch 15/30, Loss: 0.2086, Val Loss: 0.2332, Val Acc: 0.9191\n",
      "Epoch 16/30, Loss: 0.1737, Val Loss: 0.1672, Val Acc: 0.9443\n",
      "Epoch 17/30, Loss: 0.1788, Val Loss: 0.1488, Val Acc: 0.9527\n",
      "Epoch 18/30, Loss: 0.1670, Val Loss: 0.1587, Val Acc: 0.9527\n",
      "Epoch 19/30, Loss: 0.1582, Val Loss: 0.1715, Val Acc: 0.9382\n",
      "Epoch 20/30, Loss: 0.1690, Val Loss: 0.1192, Val Acc: 0.9573\n",
      "Epoch 21/30, Loss: 0.1414, Val Loss: 0.1138, Val Acc: 0.9680\n",
      "Epoch 22/30, Loss: 0.1269, Val Loss: 0.1161, Val Acc: 0.9611\n",
      "Epoch 23/30, Loss: 0.1200, Val Loss: 0.1244, Val Acc: 0.9634\n",
      "Epoch 24/30, Loss: 0.1263, Val Loss: 0.1126, Val Acc: 0.9695\n",
      "Epoch 25/30, Loss: 0.1174, Val Loss: 0.1170, Val Acc: 0.9664\n",
      "Epoch 26/30, Loss: 0.1147, Val Loss: 0.1106, Val Acc: 0.9664\n",
      "Epoch 27/30, Loss: 0.1187, Val Loss: 0.0941, Val Acc: 0.9725\n",
      "Epoch 28/30, Loss: 0.1157, Val Loss: 0.1117, Val Acc: 0.9634\n",
      "Epoch 29/30, Loss: 0.1070, Val Loss: 0.0969, Val Acc: 0.9710\n",
      "Epoch 30/30, Loss: 0.1171, Val Loss: 0.0794, Val Acc: 0.9786\n"
     ]
    }
   ],
   "source": [
    "# Train the model\n",
    "model = train_model(model, train_loader, test_loader, criterion, optimizer, scheduler, n_epochs, early_stopping_patience)"
   ]
  },
  {
   "cell_type": "markdown",
   "id": "4704ae4e",
   "metadata": {
    "papermill": {
     "duration": 0.009927,
     "end_time": "2024-07-01T09:20:52.675538",
     "exception": false,
     "start_time": "2024-07-01T09:20:52.665611",
     "status": "completed"
    },
    "tags": []
   },
   "source": [
    "# Transfer learning with Hugging face model"
   ]
  },
  {
   "cell_type": "code",
   "execution_count": 12,
   "id": "132c81d0",
   "metadata": {
    "execution": {
     "iopub.execute_input": "2024-07-01T09:20:52.697795Z",
     "iopub.status.busy": "2024-07-01T09:20:52.696895Z",
     "iopub.status.idle": "2024-07-01T09:21:05.721911Z",
     "shell.execute_reply": "2024-07-01T09:21:05.720989Z"
    },
    "papermill": {
     "duration": 13.038961,
     "end_time": "2024-07-01T09:21:05.724591",
     "exception": false,
     "start_time": "2024-07-01T09:20:52.685630",
     "status": "completed"
    },
    "tags": []
   },
   "outputs": [
    {
     "name": "stderr",
     "output_type": "stream",
     "text": [
      "2024-07-01 09:20:55.427886: E external/local_xla/xla/stream_executor/cuda/cuda_dnn.cc:9261] Unable to register cuDNN factory: Attempting to register factory for plugin cuDNN when one has already been registered\n",
      "2024-07-01 09:20:55.428014: E external/local_xla/xla/stream_executor/cuda/cuda_fft.cc:607] Unable to register cuFFT factory: Attempting to register factory for plugin cuFFT when one has already been registered\n",
      "2024-07-01 09:20:55.559637: E external/local_xla/xla/stream_executor/cuda/cuda_blas.cc:1515] Unable to register cuBLAS factory: Attempting to register factory for plugin cuBLAS when one has already been registered\n"
     ]
    }
   ],
   "source": [
    "import torch\n",
    "import torch.nn as nn\n",
    "import torch.optim as optim\n",
    "from torch.utils.data import DataLoader\n",
    "from torchvision import datasets, transforms\n",
    "from torch.optim.lr_scheduler import ReduceLROnPlateau\n",
    "import copy\n",
    "from transformers import ViTForImageClassification, ViTFeatureExtractor"
   ]
  },
  {
   "cell_type": "code",
   "execution_count": 13,
   "id": "201a7ffc",
   "metadata": {
    "execution": {
     "iopub.execute_input": "2024-07-01T09:21:05.750554Z",
     "iopub.status.busy": "2024-07-01T09:21:05.750000Z",
     "iopub.status.idle": "2024-07-01T09:21:05.755867Z",
     "shell.execute_reply": "2024-07-01T09:21:05.754625Z"
    },
    "papermill": {
     "duration": 0.019546,
     "end_time": "2024-07-01T09:21:05.758122",
     "exception": false,
     "start_time": "2024-07-01T09:21:05.738576",
     "status": "completed"
    },
    "tags": []
   },
   "outputs": [
    {
     "name": "stdout",
     "output_type": "stream",
     "text": [
      "Using device: cuda\n"
     ]
    }
   ],
   "source": [
    "# Check for GPU availability\n",
    "device = torch.device('cuda' if torch.cuda.is_available() else 'cpu')\n",
    "print(f\"Using device: {device}\")"
   ]
  },
  {
   "cell_type": "code",
   "execution_count": 14,
   "id": "78cec9f6",
   "metadata": {
    "execution": {
     "iopub.execute_input": "2024-07-01T09:21:05.782609Z",
     "iopub.status.busy": "2024-07-01T09:21:05.782325Z",
     "iopub.status.idle": "2024-07-01T09:21:08.153490Z",
     "shell.execute_reply": "2024-07-01T09:21:08.152678Z"
    },
    "papermill": {
     "duration": 2.383959,
     "end_time": "2024-07-01T09:21:08.155604",
     "exception": false,
     "start_time": "2024-07-01T09:21:05.771645",
     "status": "completed"
    },
    "tags": []
   },
   "outputs": [
    {
     "data": {
      "application/vnd.jupyter.widget-view+json": {
       "model_id": "9fddeb3dd93448a0b37f29366ffa7935",
       "version_major": 2,
       "version_minor": 0
      },
      "text/plain": [
       "preprocessor_config.json:   0%|          | 0.00/160 [00:00<?, ?B/s]"
      ]
     },
     "metadata": {},
     "output_type": "display_data"
    },
    {
     "name": "stderr",
     "output_type": "stream",
     "text": [
      "/opt/conda/lib/python3.10/site-packages/transformers/models/vit/feature_extraction_vit.py:28: FutureWarning: The class ViTFeatureExtractor is deprecated and will be removed in version 5 of Transformers. Please use ViTImageProcessor instead.\n",
      "  warnings.warn(\n"
     ]
    },
    {
     "data": {
      "application/vnd.jupyter.widget-view+json": {
       "model_id": "dfe858df98a440dcb157e9d2cab2b5f7",
       "version_major": 2,
       "version_minor": 0
      },
      "text/plain": [
       "config.json:   0%|          | 0.00/502 [00:00<?, ?B/s]"
      ]
     },
     "metadata": {},
     "output_type": "display_data"
    },
    {
     "data": {
      "application/vnd.jupyter.widget-view+json": {
       "model_id": "182a9fe3c01a4a7796e24e6db5f230ba",
       "version_major": 2,
       "version_minor": 0
      },
      "text/plain": [
       "model.safetensors:   0%|          | 0.00/346M [00:00<?, ?B/s]"
      ]
     },
     "metadata": {},
     "output_type": "display_data"
    },
    {
     "name": "stderr",
     "output_type": "stream",
     "text": [
      "Some weights of ViTForImageClassification were not initialized from the model checkpoint at google/vit-base-patch16-224-in21k and are newly initialized: ['classifier.bias', 'classifier.weight']\n",
      "You should probably TRAIN this model on a down-stream task to be able to use it for predictions and inference.\n"
     ]
    }
   ],
   "source": [
    "# Load ViT model and feature extractor\n",
    "model_name = \"google/vit-base-patch16-224-in21k\"\n",
    "feature_extractor = ViTFeatureExtractor.from_pretrained(model_name)\n",
    "model = ViTForImageClassification.from_pretrained(model_name, num_labels=4)  # Assuming 4 classes\n"
   ]
  },
  {
   "cell_type": "code",
   "execution_count": 15,
   "id": "ae4f482f",
   "metadata": {
    "execution": {
     "iopub.execute_input": "2024-07-01T09:21:08.178987Z",
     "iopub.status.busy": "2024-07-01T09:21:08.178682Z",
     "iopub.status.idle": "2024-07-01T09:21:08.283231Z",
     "shell.execute_reply": "2024-07-01T09:21:08.282400Z"
    },
    "papermill": {
     "duration": 0.118781,
     "end_time": "2024-07-01T09:21:08.285588",
     "exception": false,
     "start_time": "2024-07-01T09:21:08.166807",
     "status": "completed"
    },
    "tags": []
   },
   "outputs": [],
   "source": [
    "# Use DataParallel for multi-GPU training\n",
    "if torch.cuda.device_count() > 1:\n",
    "    model = nn.DataParallel(model)\n",
    "model = model.to(device)"
   ]
  },
  {
   "cell_type": "code",
   "execution_count": 16,
   "id": "27bd639e",
   "metadata": {
    "execution": {
     "iopub.execute_input": "2024-07-01T09:21:08.309560Z",
     "iopub.status.busy": "2024-07-01T09:21:08.308779Z",
     "iopub.status.idle": "2024-07-01T09:21:08.315073Z",
     "shell.execute_reply": "2024-07-01T09:21:08.314216Z"
    },
    "papermill": {
     "duration": 0.020089,
     "end_time": "2024-07-01T09:21:08.316863",
     "exception": false,
     "start_time": "2024-07-01T09:21:08.296774",
     "status": "completed"
    },
    "tags": []
   },
   "outputs": [],
   "source": [
    "# Define transformations\n",
    "transform = {\n",
    "    'train': transforms.Compose([\n",
    "        transforms.Resize((224, 224)),\n",
    "        transforms.RandomHorizontalFlip(),\n",
    "        transforms.RandomRotation(10),\n",
    "        transforms.ToTensor(),\n",
    "        transforms.Normalize(mean=feature_extractor.image_mean, std=feature_extractor.image_std)\n",
    "    ]),\n",
    "    'test': transforms.Compose([\n",
    "        transforms.Resize((224, 224)),\n",
    "        transforms.ToTensor(),\n",
    "        transforms.Normalize(mean=feature_extractor.image_mean, std=feature_extractor.image_std)\n",
    "    ]),\n",
    "}"
   ]
  },
  {
   "cell_type": "code",
   "execution_count": 17,
   "id": "567f68e5",
   "metadata": {
    "execution": {
     "iopub.execute_input": "2024-07-01T09:21:08.339387Z",
     "iopub.status.busy": "2024-07-01T09:21:08.339132Z",
     "iopub.status.idle": "2024-07-01T09:21:11.353922Z",
     "shell.execute_reply": "2024-07-01T09:21:11.352793Z"
    },
    "papermill": {
     "duration": 3.028575,
     "end_time": "2024-07-01T09:21:11.356329",
     "exception": false,
     "start_time": "2024-07-01T09:21:08.327754",
     "status": "completed"
    },
    "tags": []
   },
   "outputs": [],
   "source": [
    "# Load dataset\n",
    "train_data = datasets.ImageFolder(root='/kaggle/input/braintumor/Training', transform=transform['train'])\n",
    "test_data = datasets.ImageFolder(root='/kaggle/input/braintumor/Testing', transform=transform['test'])\n",
    "\n",
    "train_loader = DataLoader(train_data, batch_size=32, shuffle=True, num_workers=4)\n",
    "test_loader = DataLoader(test_data, batch_size=32, shuffle=False, num_workers=4)\n"
   ]
  },
  {
   "cell_type": "code",
   "execution_count": 18,
   "id": "2cbaece4",
   "metadata": {
    "execution": {
     "iopub.execute_input": "2024-07-01T09:21:11.381950Z",
     "iopub.status.busy": "2024-07-01T09:21:11.381234Z",
     "iopub.status.idle": "2024-07-01T09:21:11.387816Z",
     "shell.execute_reply": "2024-07-01T09:21:11.387087Z"
    },
    "papermill": {
     "duration": 0.019978,
     "end_time": "2024-07-01T09:21:11.389684",
     "exception": false,
     "start_time": "2024-07-01T09:21:11.369706",
     "status": "completed"
    },
    "tags": []
   },
   "outputs": [],
   "source": [
    "# Initialize loss, optimizer, and learning rate scheduler\n",
    "criterion = nn.CrossEntropyLoss()\n",
    "optimizer = optim.Adam(model.parameters(), lr=0.0001)\n",
    "scheduler = ReduceLROnPlateau(optimizer, mode='min', factor=0.2, patience=5, verbose=True)\n"
   ]
  },
  {
   "cell_type": "code",
   "execution_count": 19,
   "id": "c0e3b5e8",
   "metadata": {
    "execution": {
     "iopub.execute_input": "2024-07-01T09:21:11.411770Z",
     "iopub.status.busy": "2024-07-01T09:21:11.411521Z",
     "iopub.status.idle": "2024-07-01T09:21:11.432053Z",
     "shell.execute_reply": "2024-07-01T09:21:11.431368Z"
    },
    "papermill": {
     "duration": 0.033811,
     "end_time": "2024-07-01T09:21:11.433955",
     "exception": false,
     "start_time": "2024-07-01T09:21:11.400144",
     "status": "completed"
    },
    "tags": []
   },
   "outputs": [],
   "source": [
    "# Early stopping parameters\n",
    "early_stopping_patience = 10\n",
    "best_model_wts = copy.deepcopy(model.state_dict())\n",
    "best_acc = 0.0\n",
    "epochs_no_improve = 0\n",
    "n_epochs = 30"
   ]
  },
  {
   "cell_type": "code",
   "execution_count": 20,
   "id": "e9f93d55",
   "metadata": {
    "execution": {
     "iopub.execute_input": "2024-07-01T09:21:11.455745Z",
     "iopub.status.busy": "2024-07-01T09:21:11.455502Z",
     "iopub.status.idle": "2024-07-01T09:21:11.459246Z",
     "shell.execute_reply": "2024-07-01T09:21:11.458424Z"
    },
    "papermill": {
     "duration": 0.016694,
     "end_time": "2024-07-01T09:21:11.461055",
     "exception": false,
     "start_time": "2024-07-01T09:21:11.444361",
     "status": "completed"
    },
    "tags": []
   },
   "outputs": [],
   "source": [
    "# Mixed precision training scaler\n",
    "scaler = torch.cuda.amp.GradScaler()"
   ]
  },
  {
   "cell_type": "code",
   "execution_count": 21,
   "id": "6e2ae8b4",
   "metadata": {
    "execution": {
     "iopub.execute_input": "2024-07-01T09:21:11.483392Z",
     "iopub.status.busy": "2024-07-01T09:21:11.483128Z",
     "iopub.status.idle": "2024-07-01T09:21:11.492886Z",
     "shell.execute_reply": "2024-07-01T09:21:11.492035Z"
    },
    "papermill": {
     "duration": 0.02301,
     "end_time": "2024-07-01T09:21:11.494741",
     "exception": false,
     "start_time": "2024-07-01T09:21:11.471731",
     "status": "completed"
    },
    "tags": []
   },
   "outputs": [],
   "source": [
    "# Training and validation functions\n",
    "def train_model(model, train_loader, test_loader, criterion, optimizer, scheduler, n_epochs, early_stopping_patience):\n",
    "    global best_model_wts, best_acc, epochs_no_improve\n",
    "\n",
    "    for epoch in range(n_epochs):\n",
    "        model.train()\n",
    "        running_loss = 0.0\n",
    "\n",
    "        for inputs, labels in train_loader:\n",
    "            inputs, labels = inputs.to(device), labels.to(device)\n",
    "            optimizer.zero_grad()\n",
    "            with torch.cuda.amp.autocast():\n",
    "                outputs = model(inputs).logits\n",
    "                loss = criterion(outputs, labels)\n",
    "            scaler.scale(loss).backward()\n",
    "            scaler.step(optimizer)\n",
    "            scaler.update()\n",
    "            running_loss += loss.item() * inputs.size(0)\n",
    "\n",
    "        epoch_loss = running_loss / len(train_loader.dataset)\n",
    "        \n",
    "        val_loss, val_acc = validate_model(model, test_loader, criterion)\n",
    "        scheduler.step(val_loss)\n",
    "\n",
    "        print(f'Epoch {epoch+1}/{n_epochs}, Loss: {epoch_loss:.4f}, Val Loss: {val_loss:.4f}, Val Acc: {val_acc:.4f}')\n",
    "\n",
    "        # Early stopping\n",
    "        if val_acc > best_acc:\n",
    "            best_acc = val_acc\n",
    "            best_model_wts = copy.deepcopy(model.state_dict())\n",
    "            epochs_no_improve = 0\n",
    "        else:\n",
    "            epochs_no_improve += 1\n",
    "            if epochs_no_improve == early_stopping_patience:\n",
    "                print(f'Early stopping at epoch {epoch+1}')\n",
    "                model.load_state_dict(best_model_wts)\n",
    "                return model\n",
    "\n",
    "    model.load_state_dict(best_model_wts)\n",
    "    return model\n"
   ]
  },
  {
   "cell_type": "code",
   "execution_count": 22,
   "id": "0b0926c9",
   "metadata": {
    "execution": {
     "iopub.execute_input": "2024-07-01T09:21:11.517079Z",
     "iopub.status.busy": "2024-07-01T09:21:11.516360Z",
     "iopub.status.idle": "2024-07-01T09:21:11.523057Z",
     "shell.execute_reply": "2024-07-01T09:21:11.522219Z"
    },
    "papermill": {
     "duration": 0.019819,
     "end_time": "2024-07-01T09:21:11.524992",
     "exception": false,
     "start_time": "2024-07-01T09:21:11.505173",
     "status": "completed"
    },
    "tags": []
   },
   "outputs": [],
   "source": [
    "\n",
    "def validate_model(model, test_loader, criterion):\n",
    "    model.eval()\n",
    "    val_loss = 0.0\n",
    "    correct = 0\n",
    "\n",
    "    with torch.no_grad():\n",
    "        for inputs, labels in test_loader:\n",
    "            inputs, labels = inputs.to(device), labels.to(device)\n",
    "            with torch.cuda.amp.autocast():\n",
    "                outputs = model(inputs).logits\n",
    "                loss = criterion(outputs, labels)\n",
    "            val_loss += loss.item() * inputs.size(0)\n",
    "            preds = outputs.argmax(dim=1)\n",
    "            correct += (preds == labels).sum().item()\n",
    "\n",
    "    val_loss = val_loss / len(test_loader.dataset)\n",
    "    accuracy = correct / len(test_loader.dataset)\n",
    "    return val_loss, accuracy"
   ]
  },
  {
   "cell_type": "code",
   "execution_count": 23,
   "id": "8538d53b",
   "metadata": {
    "execution": {
     "iopub.execute_input": "2024-07-01T09:21:11.546761Z",
     "iopub.status.busy": "2024-07-01T09:21:11.546511Z",
     "iopub.status.idle": "2024-07-01T09:34:26.498983Z",
     "shell.execute_reply": "2024-07-01T09:34:26.497776Z"
    },
    "papermill": {
     "duration": 794.97768,
     "end_time": "2024-07-01T09:34:26.513109",
     "exception": false,
     "start_time": "2024-07-01T09:21:11.535429",
     "status": "completed"
    },
    "tags": []
   },
   "outputs": [
    {
     "name": "stderr",
     "output_type": "stream",
     "text": [
      "/opt/conda/lib/python3.10/multiprocessing/popen_fork.py:66: RuntimeWarning: os.fork() was called. os.fork() is incompatible with multithreaded code, and JAX is multithreaded, so this will likely lead to a deadlock.\n",
      "  self.pid = os.fork()\n",
      "/opt/conda/lib/python3.10/multiprocessing/popen_fork.py:66: RuntimeWarning: os.fork() was called. os.fork() is incompatible with multithreaded code, and JAX is multithreaded, so this will likely lead to a deadlock.\n",
      "  self.pid = os.fork()\n"
     ]
    },
    {
     "name": "stdout",
     "output_type": "stream",
     "text": [
      "Epoch 1/30, Loss: 0.3054, Val Loss: 0.1266, Val Acc: 0.9641\n",
      "Epoch 2/30, Loss: 0.0873, Val Loss: 0.0775, Val Acc: 0.9832\n",
      "Epoch 3/30, Loss: 0.0630, Val Loss: 0.0553, Val Acc: 0.9825\n",
      "Epoch 4/30, Loss: 0.0291, Val Loss: 0.0305, Val Acc: 0.9893\n",
      "Epoch 5/30, Loss: 0.0290, Val Loss: 0.0436, Val Acc: 0.9893\n",
      "Epoch 6/30, Loss: 0.0367, Val Loss: 0.0440, Val Acc: 0.9817\n",
      "Epoch 7/30, Loss: 0.0313, Val Loss: 0.0196, Val Acc: 0.9947\n",
      "Epoch 8/30, Loss: 0.0196, Val Loss: 0.0362, Val Acc: 0.9924\n",
      "Epoch 9/30, Loss: 0.0282, Val Loss: 0.0891, Val Acc: 0.9741\n",
      "Epoch 10/30, Loss: 0.0159, Val Loss: 0.0310, Val Acc: 0.9878\n",
      "Epoch 11/30, Loss: 0.0278, Val Loss: 0.0414, Val Acc: 0.9840\n",
      "Epoch 12/30, Loss: 0.0194, Val Loss: 0.0542, Val Acc: 0.9893\n",
      "Epoch 00013: reducing learning rate of group 0 to 2.0000e-05.\n",
      "Epoch 13/30, Loss: 0.0125, Val Loss: 0.0462, Val Acc: 0.9886\n",
      "Epoch 14/30, Loss: 0.0050, Val Loss: 0.0383, Val Acc: 0.9924\n",
      "Epoch 15/30, Loss: 0.0024, Val Loss: 0.0351, Val Acc: 0.9924\n",
      "Epoch 16/30, Loss: 0.0026, Val Loss: 0.0424, Val Acc: 0.9924\n",
      "Epoch 17/30, Loss: 0.0040, Val Loss: 0.0336, Val Acc: 0.9931\n",
      "Early stopping at epoch 17\n"
     ]
    }
   ],
   "source": [
    "# Train the model\n",
    "model = train_model(model, train_loader, test_loader, criterion, optimizer, scheduler, n_epochs, early_stopping_patience)\n"
   ]
  },
  {
   "cell_type": "code",
   "execution_count": null,
   "id": "91701906",
   "metadata": {
    "papermill": {
     "duration": 0.012044,
     "end_time": "2024-07-01T09:34:26.537023",
     "exception": false,
     "start_time": "2024-07-01T09:34:26.524979",
     "status": "completed"
    },
    "tags": []
   },
   "outputs": [],
   "source": []
  }
 ],
 "metadata": {
  "kaggle": {
   "accelerator": "nvidiaTeslaT4",
   "dataSources": [
    {
     "datasetId": 5312681,
     "sourceId": 8829848,
     "sourceType": "datasetVersion"
    }
   ],
   "dockerImageVersionId": 30733,
   "isGpuEnabled": true,
   "isInternetEnabled": true,
   "language": "python",
   "sourceType": "notebook"
  },
  "kernelspec": {
   "display_name": "Python 3",
   "language": "python",
   "name": "python3"
  },
  "language_info": {
   "codemirror_mode": {
    "name": "ipython",
    "version": 3
   },
   "file_extension": ".py",
   "mimetype": "text/x-python",
   "name": "python",
   "nbconvert_exporter": "python",
   "pygments_lexer": "ipython3",
   "version": "3.10.13"
  },
  "papermill": {
   "default_parameters": {},
   "duration": 1239.751085,
   "end_time": "2024-07-01T09:34:30.040253",
   "environment_variables": {},
   "exception": null,
   "input_path": "__notebook__.ipynb",
   "output_path": "__notebook__.ipynb",
   "parameters": {},
   "start_time": "2024-07-01T09:13:50.289168",
   "version": "2.5.0"
  },
  "widgets": {
   "application/vnd.jupyter.widget-state+json": {
    "state": {
     "050579f9511f4a06a1c090f598849d1b": {
      "model_module": "@jupyter-widgets/controls",
      "model_module_version": "1.5.0",
      "model_name": "DescriptionStyleModel",
      "state": {
       "_model_module": "@jupyter-widgets/controls",
       "_model_module_version": "1.5.0",
       "_model_name": "DescriptionStyleModel",
       "_view_count": null,
       "_view_module": "@jupyter-widgets/base",
       "_view_module_version": "1.2.0",
       "_view_name": "StyleView",
       "description_width": ""
      }
     },
     "138c8c3339d7471ba37e18e833c315d4": {
      "model_module": "@jupyter-widgets/controls",
      "model_module_version": "1.5.0",
      "model_name": "HTMLModel",
      "state": {
       "_dom_classes": [],
       "_model_module": "@jupyter-widgets/controls",
       "_model_module_version": "1.5.0",
       "_model_name": "HTMLModel",
       "_view_count": null,
       "_view_module": "@jupyter-widgets/controls",
       "_view_module_version": "1.5.0",
       "_view_name": "HTMLView",
       "description": "",
       "description_tooltip": null,
       "layout": "IPY_MODEL_412b1fd67bf04f9493da63a36beb98cf",
       "placeholder": "​",
       "style": "IPY_MODEL_749ddad02dd04fd396dfe54de05c6dcc",
       "value": " 502/502 [00:00&lt;00:00, 14.8kB/s]"
      }
     },
     "13af4fc5f2804198a4f2fefe6362f407": {
      "model_module": "@jupyter-widgets/controls",
      "model_module_version": "1.5.0",
      "model_name": "ProgressStyleModel",
      "state": {
       "_model_module": "@jupyter-widgets/controls",
       "_model_module_version": "1.5.0",
       "_model_name": "ProgressStyleModel",
       "_view_count": null,
       "_view_module": "@jupyter-widgets/base",
       "_view_module_version": "1.2.0",
       "_view_name": "StyleView",
       "bar_color": null,
       "description_width": ""
      }
     },
     "182a9fe3c01a4a7796e24e6db5f230ba": {
      "model_module": "@jupyter-widgets/controls",
      "model_module_version": "1.5.0",
      "model_name": "HBoxModel",
      "state": {
       "_dom_classes": [],
       "_model_module": "@jupyter-widgets/controls",
       "_model_module_version": "1.5.0",
       "_model_name": "HBoxModel",
       "_view_count": null,
       "_view_module": "@jupyter-widgets/controls",
       "_view_module_version": "1.5.0",
       "_view_name": "HBoxView",
       "box_style": "",
       "children": [
        "IPY_MODEL_9a64a777f4644a87b4eba97e8fb03cb9",
        "IPY_MODEL_7786ce9fbf51470cb0b9811432d5deec",
        "IPY_MODEL_2a45e135cbb74b74addcc71d3aea1ea0"
       ],
       "layout": "IPY_MODEL_e136d038c27c4c7eb3d0eec048d6290d"
      }
     },
     "21c923015e3f4429bb50878037cb4c3c": {
      "model_module": "@jupyter-widgets/controls",
      "model_module_version": "1.5.0",
      "model_name": "DescriptionStyleModel",
      "state": {
       "_model_module": "@jupyter-widgets/controls",
       "_model_module_version": "1.5.0",
       "_model_name": "DescriptionStyleModel",
       "_view_count": null,
       "_view_module": "@jupyter-widgets/base",
       "_view_module_version": "1.2.0",
       "_view_name": "StyleView",
       "description_width": ""
      }
     },
     "28a3da013f1c442ab8d4aeba5087e981": {
      "model_module": "@jupyter-widgets/base",
      "model_module_version": "1.2.0",
      "model_name": "LayoutModel",
      "state": {
       "_model_module": "@jupyter-widgets/base",
       "_model_module_version": "1.2.0",
       "_model_name": "LayoutModel",
       "_view_count": null,
       "_view_module": "@jupyter-widgets/base",
       "_view_module_version": "1.2.0",
       "_view_name": "LayoutView",
       "align_content": null,
       "align_items": null,
       "align_self": null,
       "border": null,
       "bottom": null,
       "display": null,
       "flex": null,
       "flex_flow": null,
       "grid_area": null,
       "grid_auto_columns": null,
       "grid_auto_flow": null,
       "grid_auto_rows": null,
       "grid_column": null,
       "grid_gap": null,
       "grid_row": null,
       "grid_template_areas": null,
       "grid_template_columns": null,
       "grid_template_rows": null,
       "height": null,
       "justify_content": null,
       "justify_items": null,
       "left": null,
       "margin": null,
       "max_height": null,
       "max_width": null,
       "min_height": null,
       "min_width": null,
       "object_fit": null,
       "object_position": null,
       "order": null,
       "overflow": null,
       "overflow_x": null,
       "overflow_y": null,
       "padding": null,
       "right": null,
       "top": null,
       "visibility": null,
       "width": null
      }
     },
     "2a45e135cbb74b74addcc71d3aea1ea0": {
      "model_module": "@jupyter-widgets/controls",
      "model_module_version": "1.5.0",
      "model_name": "HTMLModel",
      "state": {
       "_dom_classes": [],
       "_model_module": "@jupyter-widgets/controls",
       "_model_module_version": "1.5.0",
       "_model_name": "HTMLModel",
       "_view_count": null,
       "_view_module": "@jupyter-widgets/controls",
       "_view_module_version": "1.5.0",
       "_view_name": "HTMLView",
       "description": "",
       "description_tooltip": null,
       "layout": "IPY_MODEL_e9d0f9c8fc8841a289364bd102dd1546",
       "placeholder": "​",
       "style": "IPY_MODEL_ea3252ce56c541909de8c944f672351d",
       "value": " 346M/346M [00:01&lt;00:00, 268MB/s]"
      }
     },
     "327fe161a18c43b9a5eb5fe70300ad95": {
      "model_module": "@jupyter-widgets/controls",
      "model_module_version": "1.5.0",
      "model_name": "HTMLModel",
      "state": {
       "_dom_classes": [],
       "_model_module": "@jupyter-widgets/controls",
       "_model_module_version": "1.5.0",
       "_model_name": "HTMLModel",
       "_view_count": null,
       "_view_module": "@jupyter-widgets/controls",
       "_view_module_version": "1.5.0",
       "_view_name": "HTMLView",
       "description": "",
       "description_tooltip": null,
       "layout": "IPY_MODEL_5413be85f83942ab9b54d50eb67aea1d",
       "placeholder": "​",
       "style": "IPY_MODEL_83fa80a4ed144946b8ec768273a69921",
       "value": "config.json: 100%"
      }
     },
     "35adb11b2f8f4268a5b695bb26370c76": {
      "model_module": "@jupyter-widgets/base",
      "model_module_version": "1.2.0",
      "model_name": "LayoutModel",
      "state": {
       "_model_module": "@jupyter-widgets/base",
       "_model_module_version": "1.2.0",
       "_model_name": "LayoutModel",
       "_view_count": null,
       "_view_module": "@jupyter-widgets/base",
       "_view_module_version": "1.2.0",
       "_view_name": "LayoutView",
       "align_content": null,
       "align_items": null,
       "align_self": null,
       "border": null,
       "bottom": null,
       "display": null,
       "flex": null,
       "flex_flow": null,
       "grid_area": null,
       "grid_auto_columns": null,
       "grid_auto_flow": null,
       "grid_auto_rows": null,
       "grid_column": null,
       "grid_gap": null,
       "grid_row": null,
       "grid_template_areas": null,
       "grid_template_columns": null,
       "grid_template_rows": null,
       "height": null,
       "justify_content": null,
       "justify_items": null,
       "left": null,
       "margin": null,
       "max_height": null,
       "max_width": null,
       "min_height": null,
       "min_width": null,
       "object_fit": null,
       "object_position": null,
       "order": null,
       "overflow": null,
       "overflow_x": null,
       "overflow_y": null,
       "padding": null,
       "right": null,
       "top": null,
       "visibility": null,
       "width": null
      }
     },
     "361be455a1b24eb2a9db8e82e493b95e": {
      "model_module": "@jupyter-widgets/controls",
      "model_module_version": "1.5.0",
      "model_name": "FloatProgressModel",
      "state": {
       "_dom_classes": [],
       "_model_module": "@jupyter-widgets/controls",
       "_model_module_version": "1.5.0",
       "_model_name": "FloatProgressModel",
       "_view_count": null,
       "_view_module": "@jupyter-widgets/controls",
       "_view_module_version": "1.5.0",
       "_view_name": "ProgressView",
       "bar_style": "success",
       "description": "",
       "description_tooltip": null,
       "layout": "IPY_MODEL_28a3da013f1c442ab8d4aeba5087e981",
       "max": 160.0,
       "min": 0.0,
       "orientation": "horizontal",
       "style": "IPY_MODEL_13af4fc5f2804198a4f2fefe6362f407",
       "value": 160.0
      }
     },
     "412b1fd67bf04f9493da63a36beb98cf": {
      "model_module": "@jupyter-widgets/base",
      "model_module_version": "1.2.0",
      "model_name": "LayoutModel",
      "state": {
       "_model_module": "@jupyter-widgets/base",
       "_model_module_version": "1.2.0",
       "_model_name": "LayoutModel",
       "_view_count": null,
       "_view_module": "@jupyter-widgets/base",
       "_view_module_version": "1.2.0",
       "_view_name": "LayoutView",
       "align_content": null,
       "align_items": null,
       "align_self": null,
       "border": null,
       "bottom": null,
       "display": null,
       "flex": null,
       "flex_flow": null,
       "grid_area": null,
       "grid_auto_columns": null,
       "grid_auto_flow": null,
       "grid_auto_rows": null,
       "grid_column": null,
       "grid_gap": null,
       "grid_row": null,
       "grid_template_areas": null,
       "grid_template_columns": null,
       "grid_template_rows": null,
       "height": null,
       "justify_content": null,
       "justify_items": null,
       "left": null,
       "margin": null,
       "max_height": null,
       "max_width": null,
       "min_height": null,
       "min_width": null,
       "object_fit": null,
       "object_position": null,
       "order": null,
       "overflow": null,
       "overflow_x": null,
       "overflow_y": null,
       "padding": null,
       "right": null,
       "top": null,
       "visibility": null,
       "width": null
      }
     },
     "5413be85f83942ab9b54d50eb67aea1d": {
      "model_module": "@jupyter-widgets/base",
      "model_module_version": "1.2.0",
      "model_name": "LayoutModel",
      "state": {
       "_model_module": "@jupyter-widgets/base",
       "_model_module_version": "1.2.0",
       "_model_name": "LayoutModel",
       "_view_count": null,
       "_view_module": "@jupyter-widgets/base",
       "_view_module_version": "1.2.0",
       "_view_name": "LayoutView",
       "align_content": null,
       "align_items": null,
       "align_self": null,
       "border": null,
       "bottom": null,
       "display": null,
       "flex": null,
       "flex_flow": null,
       "grid_area": null,
       "grid_auto_columns": null,
       "grid_auto_flow": null,
       "grid_auto_rows": null,
       "grid_column": null,
       "grid_gap": null,
       "grid_row": null,
       "grid_template_areas": null,
       "grid_template_columns": null,
       "grid_template_rows": null,
       "height": null,
       "justify_content": null,
       "justify_items": null,
       "left": null,
       "margin": null,
       "max_height": null,
       "max_width": null,
       "min_height": null,
       "min_width": null,
       "object_fit": null,
       "object_position": null,
       "order": null,
       "overflow": null,
       "overflow_x": null,
       "overflow_y": null,
       "padding": null,
       "right": null,
       "top": null,
       "visibility": null,
       "width": null
      }
     },
     "5aa7a1bdccd2451995c1ada3d3e49b6d": {
      "model_module": "@jupyter-widgets/base",
      "model_module_version": "1.2.0",
      "model_name": "LayoutModel",
      "state": {
       "_model_module": "@jupyter-widgets/base",
       "_model_module_version": "1.2.0",
       "_model_name": "LayoutModel",
       "_view_count": null,
       "_view_module": "@jupyter-widgets/base",
       "_view_module_version": "1.2.0",
       "_view_name": "LayoutView",
       "align_content": null,
       "align_items": null,
       "align_self": null,
       "border": null,
       "bottom": null,
       "display": null,
       "flex": null,
       "flex_flow": null,
       "grid_area": null,
       "grid_auto_columns": null,
       "grid_auto_flow": null,
       "grid_auto_rows": null,
       "grid_column": null,
       "grid_gap": null,
       "grid_row": null,
       "grid_template_areas": null,
       "grid_template_columns": null,
       "grid_template_rows": null,
       "height": null,
       "justify_content": null,
       "justify_items": null,
       "left": null,
       "margin": null,
       "max_height": null,
       "max_width": null,
       "min_height": null,
       "min_width": null,
       "object_fit": null,
       "object_position": null,
       "order": null,
       "overflow": null,
       "overflow_x": null,
       "overflow_y": null,
       "padding": null,
       "right": null,
       "top": null,
       "visibility": null,
       "width": null
      }
     },
     "5b4e4f949ff047c2b63c6510e0d31cc1": {
      "model_module": "@jupyter-widgets/controls",
      "model_module_version": "1.5.0",
      "model_name": "HTMLModel",
      "state": {
       "_dom_classes": [],
       "_model_module": "@jupyter-widgets/controls",
       "_model_module_version": "1.5.0",
       "_model_name": "HTMLModel",
       "_view_count": null,
       "_view_module": "@jupyter-widgets/controls",
       "_view_module_version": "1.5.0",
       "_view_name": "HTMLView",
       "description": "",
       "description_tooltip": null,
       "layout": "IPY_MODEL_e04861698a1845279a5faf350fba9d9a",
       "placeholder": "​",
       "style": "IPY_MODEL_21c923015e3f4429bb50878037cb4c3c",
       "value": "preprocessor_config.json: 100%"
      }
     },
     "5da0f60a5dea465ba1b4e0ce6ab175f1": {
      "model_module": "@jupyter-widgets/base",
      "model_module_version": "1.2.0",
      "model_name": "LayoutModel",
      "state": {
       "_model_module": "@jupyter-widgets/base",
       "_model_module_version": "1.2.0",
       "_model_name": "LayoutModel",
       "_view_count": null,
       "_view_module": "@jupyter-widgets/base",
       "_view_module_version": "1.2.0",
       "_view_name": "LayoutView",
       "align_content": null,
       "align_items": null,
       "align_self": null,
       "border": null,
       "bottom": null,
       "display": null,
       "flex": null,
       "flex_flow": null,
       "grid_area": null,
       "grid_auto_columns": null,
       "grid_auto_flow": null,
       "grid_auto_rows": null,
       "grid_column": null,
       "grid_gap": null,
       "grid_row": null,
       "grid_template_areas": null,
       "grid_template_columns": null,
       "grid_template_rows": null,
       "height": null,
       "justify_content": null,
       "justify_items": null,
       "left": null,
       "margin": null,
       "max_height": null,
       "max_width": null,
       "min_height": null,
       "min_width": null,
       "object_fit": null,
       "object_position": null,
       "order": null,
       "overflow": null,
       "overflow_x": null,
       "overflow_y": null,
       "padding": null,
       "right": null,
       "top": null,
       "visibility": null,
       "width": null
      }
     },
     "6860858f9058403a8767bbbce2282ffb": {
      "model_module": "@jupyter-widgets/controls",
      "model_module_version": "1.5.0",
      "model_name": "DescriptionStyleModel",
      "state": {
       "_model_module": "@jupyter-widgets/controls",
       "_model_module_version": "1.5.0",
       "_model_name": "DescriptionStyleModel",
       "_view_count": null,
       "_view_module": "@jupyter-widgets/base",
       "_view_module_version": "1.2.0",
       "_view_name": "StyleView",
       "description_width": ""
      }
     },
     "6f3cf0f5c2fa4a6797e8d4d4adba91e0": {
      "model_module": "@jupyter-widgets/controls",
      "model_module_version": "1.5.0",
      "model_name": "ProgressStyleModel",
      "state": {
       "_model_module": "@jupyter-widgets/controls",
       "_model_module_version": "1.5.0",
       "_model_name": "ProgressStyleModel",
       "_view_count": null,
       "_view_module": "@jupyter-widgets/base",
       "_view_module_version": "1.2.0",
       "_view_name": "StyleView",
       "bar_color": null,
       "description_width": ""
      }
     },
     "749ddad02dd04fd396dfe54de05c6dcc": {
      "model_module": "@jupyter-widgets/controls",
      "model_module_version": "1.5.0",
      "model_name": "DescriptionStyleModel",
      "state": {
       "_model_module": "@jupyter-widgets/controls",
       "_model_module_version": "1.5.0",
       "_model_name": "DescriptionStyleModel",
       "_view_count": null,
       "_view_module": "@jupyter-widgets/base",
       "_view_module_version": "1.2.0",
       "_view_name": "StyleView",
       "description_width": ""
      }
     },
     "7786ce9fbf51470cb0b9811432d5deec": {
      "model_module": "@jupyter-widgets/controls",
      "model_module_version": "1.5.0",
      "model_name": "FloatProgressModel",
      "state": {
       "_dom_classes": [],
       "_model_module": "@jupyter-widgets/controls",
       "_model_module_version": "1.5.0",
       "_model_name": "FloatProgressModel",
       "_view_count": null,
       "_view_module": "@jupyter-widgets/controls",
       "_view_module_version": "1.5.0",
       "_view_name": "ProgressView",
       "bar_style": "success",
       "description": "",
       "description_tooltip": null,
       "layout": "IPY_MODEL_5aa7a1bdccd2451995c1ada3d3e49b6d",
       "max": 345579424.0,
       "min": 0.0,
       "orientation": "horizontal",
       "style": "IPY_MODEL_6f3cf0f5c2fa4a6797e8d4d4adba91e0",
       "value": 345579424.0
      }
     },
     "7df9335049b04156970ef05549a430b7": {
      "model_module": "@jupyter-widgets/base",
      "model_module_version": "1.2.0",
      "model_name": "LayoutModel",
      "state": {
       "_model_module": "@jupyter-widgets/base",
       "_model_module_version": "1.2.0",
       "_model_name": "LayoutModel",
       "_view_count": null,
       "_view_module": "@jupyter-widgets/base",
       "_view_module_version": "1.2.0",
       "_view_name": "LayoutView",
       "align_content": null,
       "align_items": null,
       "align_self": null,
       "border": null,
       "bottom": null,
       "display": null,
       "flex": null,
       "flex_flow": null,
       "grid_area": null,
       "grid_auto_columns": null,
       "grid_auto_flow": null,
       "grid_auto_rows": null,
       "grid_column": null,
       "grid_gap": null,
       "grid_row": null,
       "grid_template_areas": null,
       "grid_template_columns": null,
       "grid_template_rows": null,
       "height": null,
       "justify_content": null,
       "justify_items": null,
       "left": null,
       "margin": null,
       "max_height": null,
       "max_width": null,
       "min_height": null,
       "min_width": null,
       "object_fit": null,
       "object_position": null,
       "order": null,
       "overflow": null,
       "overflow_x": null,
       "overflow_y": null,
       "padding": null,
       "right": null,
       "top": null,
       "visibility": null,
       "width": null
      }
     },
     "83fa80a4ed144946b8ec768273a69921": {
      "model_module": "@jupyter-widgets/controls",
      "model_module_version": "1.5.0",
      "model_name": "DescriptionStyleModel",
      "state": {
       "_model_module": "@jupyter-widgets/controls",
       "_model_module_version": "1.5.0",
       "_model_name": "DescriptionStyleModel",
       "_view_count": null,
       "_view_module": "@jupyter-widgets/base",
       "_view_module_version": "1.2.0",
       "_view_name": "StyleView",
       "description_width": ""
      }
     },
     "8925f49b6dc147dcbd41532b7bc43070": {
      "model_module": "@jupyter-widgets/base",
      "model_module_version": "1.2.0",
      "model_name": "LayoutModel",
      "state": {
       "_model_module": "@jupyter-widgets/base",
       "_model_module_version": "1.2.0",
       "_model_name": "LayoutModel",
       "_view_count": null,
       "_view_module": "@jupyter-widgets/base",
       "_view_module_version": "1.2.0",
       "_view_name": "LayoutView",
       "align_content": null,
       "align_items": null,
       "align_self": null,
       "border": null,
       "bottom": null,
       "display": null,
       "flex": null,
       "flex_flow": null,
       "grid_area": null,
       "grid_auto_columns": null,
       "grid_auto_flow": null,
       "grid_auto_rows": null,
       "grid_column": null,
       "grid_gap": null,
       "grid_row": null,
       "grid_template_areas": null,
       "grid_template_columns": null,
       "grid_template_rows": null,
       "height": null,
       "justify_content": null,
       "justify_items": null,
       "left": null,
       "margin": null,
       "max_height": null,
       "max_width": null,
       "min_height": null,
       "min_width": null,
       "object_fit": null,
       "object_position": null,
       "order": null,
       "overflow": null,
       "overflow_x": null,
       "overflow_y": null,
       "padding": null,
       "right": null,
       "top": null,
       "visibility": null,
       "width": null
      }
     },
     "98de969c72fa41fcbf2f7afd179b52bd": {
      "model_module": "@jupyter-widgets/base",
      "model_module_version": "1.2.0",
      "model_name": "LayoutModel",
      "state": {
       "_model_module": "@jupyter-widgets/base",
       "_model_module_version": "1.2.0",
       "_model_name": "LayoutModel",
       "_view_count": null,
       "_view_module": "@jupyter-widgets/base",
       "_view_module_version": "1.2.0",
       "_view_name": "LayoutView",
       "align_content": null,
       "align_items": null,
       "align_self": null,
       "border": null,
       "bottom": null,
       "display": null,
       "flex": null,
       "flex_flow": null,
       "grid_area": null,
       "grid_auto_columns": null,
       "grid_auto_flow": null,
       "grid_auto_rows": null,
       "grid_column": null,
       "grid_gap": null,
       "grid_row": null,
       "grid_template_areas": null,
       "grid_template_columns": null,
       "grid_template_rows": null,
       "height": null,
       "justify_content": null,
       "justify_items": null,
       "left": null,
       "margin": null,
       "max_height": null,
       "max_width": null,
       "min_height": null,
       "min_width": null,
       "object_fit": null,
       "object_position": null,
       "order": null,
       "overflow": null,
       "overflow_x": null,
       "overflow_y": null,
       "padding": null,
       "right": null,
       "top": null,
       "visibility": null,
       "width": null
      }
     },
     "9a64a777f4644a87b4eba97e8fb03cb9": {
      "model_module": "@jupyter-widgets/controls",
      "model_module_version": "1.5.0",
      "model_name": "HTMLModel",
      "state": {
       "_dom_classes": [],
       "_model_module": "@jupyter-widgets/controls",
       "_model_module_version": "1.5.0",
       "_model_name": "HTMLModel",
       "_view_count": null,
       "_view_module": "@jupyter-widgets/controls",
       "_view_module_version": "1.5.0",
       "_view_name": "HTMLView",
       "description": "",
       "description_tooltip": null,
       "layout": "IPY_MODEL_35adb11b2f8f4268a5b695bb26370c76",
       "placeholder": "​",
       "style": "IPY_MODEL_050579f9511f4a06a1c090f598849d1b",
       "value": "model.safetensors: 100%"
      }
     },
     "9d9eed6d0d4e46cd8e4715009c5ce819": {
      "model_module": "@jupyter-widgets/controls",
      "model_module_version": "1.5.0",
      "model_name": "FloatProgressModel",
      "state": {
       "_dom_classes": [],
       "_model_module": "@jupyter-widgets/controls",
       "_model_module_version": "1.5.0",
       "_model_name": "FloatProgressModel",
       "_view_count": null,
       "_view_module": "@jupyter-widgets/controls",
       "_view_module_version": "1.5.0",
       "_view_name": "ProgressView",
       "bar_style": "success",
       "description": "",
       "description_tooltip": null,
       "layout": "IPY_MODEL_5da0f60a5dea465ba1b4e0ce6ab175f1",
       "max": 502.0,
       "min": 0.0,
       "orientation": "horizontal",
       "style": "IPY_MODEL_a46d10fb36184450af405ca688af7225",
       "value": 502.0
      }
     },
     "9fddeb3dd93448a0b37f29366ffa7935": {
      "model_module": "@jupyter-widgets/controls",
      "model_module_version": "1.5.0",
      "model_name": "HBoxModel",
      "state": {
       "_dom_classes": [],
       "_model_module": "@jupyter-widgets/controls",
       "_model_module_version": "1.5.0",
       "_model_name": "HBoxModel",
       "_view_count": null,
       "_view_module": "@jupyter-widgets/controls",
       "_view_module_version": "1.5.0",
       "_view_name": "HBoxView",
       "box_style": "",
       "children": [
        "IPY_MODEL_5b4e4f949ff047c2b63c6510e0d31cc1",
        "IPY_MODEL_361be455a1b24eb2a9db8e82e493b95e",
        "IPY_MODEL_a2695bafae4948a49cde6cd8d807ea83"
       ],
       "layout": "IPY_MODEL_8925f49b6dc147dcbd41532b7bc43070"
      }
     },
     "a2695bafae4948a49cde6cd8d807ea83": {
      "model_module": "@jupyter-widgets/controls",
      "model_module_version": "1.5.0",
      "model_name": "HTMLModel",
      "state": {
       "_dom_classes": [],
       "_model_module": "@jupyter-widgets/controls",
       "_model_module_version": "1.5.0",
       "_model_name": "HTMLModel",
       "_view_count": null,
       "_view_module": "@jupyter-widgets/controls",
       "_view_module_version": "1.5.0",
       "_view_name": "HTMLView",
       "description": "",
       "description_tooltip": null,
       "layout": "IPY_MODEL_98de969c72fa41fcbf2f7afd179b52bd",
       "placeholder": "​",
       "style": "IPY_MODEL_6860858f9058403a8767bbbce2282ffb",
       "value": " 160/160 [00:00&lt;00:00, 13.1kB/s]"
      }
     },
     "a46d10fb36184450af405ca688af7225": {
      "model_module": "@jupyter-widgets/controls",
      "model_module_version": "1.5.0",
      "model_name": "ProgressStyleModel",
      "state": {
       "_model_module": "@jupyter-widgets/controls",
       "_model_module_version": "1.5.0",
       "_model_name": "ProgressStyleModel",
       "_view_count": null,
       "_view_module": "@jupyter-widgets/base",
       "_view_module_version": "1.2.0",
       "_view_name": "StyleView",
       "bar_color": null,
       "description_width": ""
      }
     },
     "dfe858df98a440dcb157e9d2cab2b5f7": {
      "model_module": "@jupyter-widgets/controls",
      "model_module_version": "1.5.0",
      "model_name": "HBoxModel",
      "state": {
       "_dom_classes": [],
       "_model_module": "@jupyter-widgets/controls",
       "_model_module_version": "1.5.0",
       "_model_name": "HBoxModel",
       "_view_count": null,
       "_view_module": "@jupyter-widgets/controls",
       "_view_module_version": "1.5.0",
       "_view_name": "HBoxView",
       "box_style": "",
       "children": [
        "IPY_MODEL_327fe161a18c43b9a5eb5fe70300ad95",
        "IPY_MODEL_9d9eed6d0d4e46cd8e4715009c5ce819",
        "IPY_MODEL_138c8c3339d7471ba37e18e833c315d4"
       ],
       "layout": "IPY_MODEL_7df9335049b04156970ef05549a430b7"
      }
     },
     "e04861698a1845279a5faf350fba9d9a": {
      "model_module": "@jupyter-widgets/base",
      "model_module_version": "1.2.0",
      "model_name": "LayoutModel",
      "state": {
       "_model_module": "@jupyter-widgets/base",
       "_model_module_version": "1.2.0",
       "_model_name": "LayoutModel",
       "_view_count": null,
       "_view_module": "@jupyter-widgets/base",
       "_view_module_version": "1.2.0",
       "_view_name": "LayoutView",
       "align_content": null,
       "align_items": null,
       "align_self": null,
       "border": null,
       "bottom": null,
       "display": null,
       "flex": null,
       "flex_flow": null,
       "grid_area": null,
       "grid_auto_columns": null,
       "grid_auto_flow": null,
       "grid_auto_rows": null,
       "grid_column": null,
       "grid_gap": null,
       "grid_row": null,
       "grid_template_areas": null,
       "grid_template_columns": null,
       "grid_template_rows": null,
       "height": null,
       "justify_content": null,
       "justify_items": null,
       "left": null,
       "margin": null,
       "max_height": null,
       "max_width": null,
       "min_height": null,
       "min_width": null,
       "object_fit": null,
       "object_position": null,
       "order": null,
       "overflow": null,
       "overflow_x": null,
       "overflow_y": null,
       "padding": null,
       "right": null,
       "top": null,
       "visibility": null,
       "width": null
      }
     },
     "e136d038c27c4c7eb3d0eec048d6290d": {
      "model_module": "@jupyter-widgets/base",
      "model_module_version": "1.2.0",
      "model_name": "LayoutModel",
      "state": {
       "_model_module": "@jupyter-widgets/base",
       "_model_module_version": "1.2.0",
       "_model_name": "LayoutModel",
       "_view_count": null,
       "_view_module": "@jupyter-widgets/base",
       "_view_module_version": "1.2.0",
       "_view_name": "LayoutView",
       "align_content": null,
       "align_items": null,
       "align_self": null,
       "border": null,
       "bottom": null,
       "display": null,
       "flex": null,
       "flex_flow": null,
       "grid_area": null,
       "grid_auto_columns": null,
       "grid_auto_flow": null,
       "grid_auto_rows": null,
       "grid_column": null,
       "grid_gap": null,
       "grid_row": null,
       "grid_template_areas": null,
       "grid_template_columns": null,
       "grid_template_rows": null,
       "height": null,
       "justify_content": null,
       "justify_items": null,
       "left": null,
       "margin": null,
       "max_height": null,
       "max_width": null,
       "min_height": null,
       "min_width": null,
       "object_fit": null,
       "object_position": null,
       "order": null,
       "overflow": null,
       "overflow_x": null,
       "overflow_y": null,
       "padding": null,
       "right": null,
       "top": null,
       "visibility": null,
       "width": null
      }
     },
     "e9d0f9c8fc8841a289364bd102dd1546": {
      "model_module": "@jupyter-widgets/base",
      "model_module_version": "1.2.0",
      "model_name": "LayoutModel",
      "state": {
       "_model_module": "@jupyter-widgets/base",
       "_model_module_version": "1.2.0",
       "_model_name": "LayoutModel",
       "_view_count": null,
       "_view_module": "@jupyter-widgets/base",
       "_view_module_version": "1.2.0",
       "_view_name": "LayoutView",
       "align_content": null,
       "align_items": null,
       "align_self": null,
       "border": null,
       "bottom": null,
       "display": null,
       "flex": null,
       "flex_flow": null,
       "grid_area": null,
       "grid_auto_columns": null,
       "grid_auto_flow": null,
       "grid_auto_rows": null,
       "grid_column": null,
       "grid_gap": null,
       "grid_row": null,
       "grid_template_areas": null,
       "grid_template_columns": null,
       "grid_template_rows": null,
       "height": null,
       "justify_content": null,
       "justify_items": null,
       "left": null,
       "margin": null,
       "max_height": null,
       "max_width": null,
       "min_height": null,
       "min_width": null,
       "object_fit": null,
       "object_position": null,
       "order": null,
       "overflow": null,
       "overflow_x": null,
       "overflow_y": null,
       "padding": null,
       "right": null,
       "top": null,
       "visibility": null,
       "width": null
      }
     },
     "ea3252ce56c541909de8c944f672351d": {
      "model_module": "@jupyter-widgets/controls",
      "model_module_version": "1.5.0",
      "model_name": "DescriptionStyleModel",
      "state": {
       "_model_module": "@jupyter-widgets/controls",
       "_model_module_version": "1.5.0",
       "_model_name": "DescriptionStyleModel",
       "_view_count": null,
       "_view_module": "@jupyter-widgets/base",
       "_view_module_version": "1.2.0",
       "_view_name": "StyleView",
       "description_width": ""
      }
     }
    },
    "version_major": 2,
    "version_minor": 0
   }
  }
 },
 "nbformat": 4,
 "nbformat_minor": 5
}
